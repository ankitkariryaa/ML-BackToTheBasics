{
 "cells": [
  {
   "cell_type": "markdown",
   "metadata": {},
   "source": [
    "# Signal classifier\n",
    "\n",
    "A simple RNN to distinguish between four kinds of signals, namely, square, sin, gaussian, and sawtooth.\n",
    "Singals are generated with a random frequencies within a range. \n",
    "When training on a CPU, I recommend reducing the range of the frequency to simplify the classification problem. \n",
    "The notebook is good to play around RNNs and see how they cope with variable length inputs."
   ]
  },
  {
   "cell_type": "code",
   "execution_count": 1,
   "metadata": {},
   "outputs": [
    {
     "name": "stderr",
     "output_type": "stream",
     "text": [
      "Using TensorFlow backend.\n"
     ]
    }
   ],
   "source": [
    "#Import the necessary packets\n",
    "import numpy as np\n",
    "from scipy import signal\n",
    "import matplotlib.pyplot as plt\n",
    "from keras.models import Sequential, load_model\n",
    "from keras.layers import LSTM, Dense, Dropout, Embedding, Masking, Bidirectional\n",
    "from keras.optimizers import Adam\n",
    "\n",
    "from keras.utils import plot_model"
   ]
  },
  {
   "cell_type": "code",
   "execution_count": 2,
   "metadata": {},
   "outputs": [],
   "source": [
    "# Generate different signal/waves with given frequencies and time period\n",
    "class waveGenerator:\n",
    "    def __init__(self, minTime = 1, maxTime=5, minFreq=2, maxFreq=10, samplingFreq = 500):\n",
    "        self.minTime = minTime\n",
    "        self.maxTime = maxTime\n",
    "        self.minFreq = minFreq\n",
    "        self.maxFreq = maxFreq\n",
    "        self.samplingFreq = samplingFreq\n",
    "        \n",
    "    def square(self, freq, t):\n",
    "        sig = signal.square(2 * np.pi * freq * t)\n",
    "        return sig\n",
    "    \n",
    "    def sinwave(self, freq, t):\n",
    "        sig = np.sin(2 * np.pi * freq* t)\n",
    "        return sig\n",
    "    \n",
    "    def gaussian(self, freq, time):\n",
    "        t = np.linspace(-time/2, time/2, self.samplingFreq, endpoint=False)\n",
    "        sig, en = signal.gausspulse(t, fc=freq, retenv=True)\n",
    "        return en\n",
    "    \n",
    "    def sawtooth(self, freq, t, randomizeTeeth= False):\n",
    "        width= 1 \n",
    "        if randomizeTeeth:\n",
    "            width = np.random.rand(1)[0]\n",
    "        sig =  signal.sawtooth(2 * np.pi * freq * t, width)\n",
    "        return sig\n",
    "    \n",
    "    def freqCatergory(self, freq):\n",
    "        #Low frequency\n",
    "        if freq <= self.minFreq + (self.maxFreq - self.minFreq)/3:\n",
    "            return [1,0,0,0]\n",
    "        #Medium frequency\n",
    "        elif freq  <= self.minFreq + 2* (self.maxFreq - self.minFreq)/3:\n",
    "            return [0,1,0, 0]\n",
    "        #High frequency\n",
    "        else:\n",
    "            return [0,0,1, 0]\n",
    "    \n",
    "    def randomWave(self):\n",
    "        freq = np.random.randint(self.minFreq, self.maxFreq)   \n",
    "#         time = np.random.randint(self.minTime, self.maxTime)\n",
    "        t = np.linspace(0, time, self.samplingFreq, endpoint=False)\n",
    "        w = np.random.randint(0, 4)\n",
    "#         print(w)\n",
    "#         w=3\n",
    "        if w == 0:\n",
    "            sig = self.sinwave(freq, t)\n",
    "            out = [1,0,0,0] + self.freqCatergory(freq)\n",
    "        elif w == 1:\n",
    "            sig = self.square(freq, t)\n",
    "            out = [0,1,0,0] + self.freqCatergory(freq)\n",
    "        elif w == 2:\n",
    "            sig = self.sawtooth(freq, t)\n",
    "            out = [0,0,1,0] + self.freqCatergory(freq)\n",
    "        else:\n",
    "            sig = self.gaussian(freq, time)\n",
    "            out = [0,0,0,1] + self.freqCatergory(freq)\n",
    "        \n",
    "        return sig, np.array(out[:4]), t\n",
    "            \n",
    "            "
   ]
  },
  {
   "cell_type": "code",
   "execution_count": 3,
   "metadata": {},
   "outputs": [
    {
     "name": "stdout",
     "output_type": "stream",
     "text": [
      "[0 0 1 0]\n",
      "(500,)\n",
      "(500,)\n"
     ]
    },
    {
     "data": {
      "image/png": "[encoded data removed]",
      "text/plain": [
       "<Figure size 432x288 with 1 Axes>"
      ]
     },
     "metadata": {
      "needs_background": "light"
     },
     "output_type": "display_data"
    }
   ],
   "source": [
    "# Display a signal\n",
    "freq, time = 30, 2\n",
    "wave = waveGenerator()\n",
    "sig, out, t = wave.randomWave()\n",
    "plt.plot(t, sig)\n",
    "plt.ylim(-2, 2)\n",
    "print(out)\n",
    "print(sig.shape)\n",
    "print(t.shape)"
   ]
  },
  {
   "cell_type": "code",
   "execution_count": 4,
   "metadata": {},
   "outputs": [
    {
     "name": "stdout",
     "output_type": "stream",
     "text": [
      "WARNING:tensorflow:From /usr/local/lib/python3.6/dist-packages/tensorflow/python/ops/resource_variable_ops.py:435: colocate_with (from tensorflow.python.framework.ops) is deprecated and will be removed in a future version.\n",
      "Instructions for updating:\n",
      "Colocations handled automatically by placer.\n",
      "Model: \"sequential_1\"\n",
      "_________________________________________________________________\n",
      "Layer (type)                 Output Shape              Param #   \n",
      "=================================================================\n",
      "lstm_1 (LSTM)                (None, 64)                16896     \n",
      "_________________________________________________________________\n",
      "dense_1 (Dense)              (None, 64)                4160      \n",
      "_________________________________________________________________\n",
      "dropout_1 (Dropout)          (None, 64)                0         \n",
      "_________________________________________________________________\n",
      "dense_2 (Dense)              (None, 4)                 260       \n",
      "=================================================================\n",
      "Total params: 21,316\n",
      "Trainable params: 21,316\n",
      "Non-trainable params: 0\n",
      "_________________________________________________________________\n"
     ]
    }
   ],
   "source": [
    "#A plain LSTM model with dense layer at the end for classification\n",
    "model = Sequential()\n",
    "\n",
    "# Recurrent layer\n",
    "model.add(\n",
    "    LSTM(\n",
    "        64, return_sequences=False, dropout=0.1,\n",
    "        recurrent_dropout=0.1, input_shape=(None, 1)))\n",
    "\n",
    "# Fully connected layer\n",
    "model.add(Dense(64, activation='relu'))\n",
    "\n",
    "# Dropout for regularization\n",
    "model.add(Dropout(0.5))\n",
    "\n",
    "# Output layer\n",
    "model.add(Dense(4, activation='softmax'))\n",
    "\n",
    "# Compile the model\n",
    "model.compile(\n",
    "    optimizer='adam', loss='categorical_crossentropy', metrics=['accuracy'])\n",
    "\n",
    "model.summary()"
   ]
  },
  {
   "cell_type": "code",
   "execution_count": 5,
   "metadata": {},
   "outputs": [
    {
     "data": {
      "text/plain": [
       "(10000, 500, 1)"
      ]
     },
     "execution_count": 5,
     "metadata": {},
     "output_type": "execute_result"
    }
   ],
   "source": [
    "# Generate training samples\n",
    "freq, time =30, 2\n",
    "wave = waveGenerator()\n",
    "X_train, y_train = [], []\n",
    "for  i in range(10000):\n",
    "    sig, out, t = wave.randomWave()\n",
    "    X_train.append(sig.reshape(500,1))\n",
    "    y_train.append(out)\n",
    "\n",
    "X_train, y_train  = np.array(X_train), np.array(y_train) \n",
    "X_train.shape"
   ]
  },
  {
   "cell_type": "code",
   "execution_count": 6,
   "metadata": {},
   "outputs": [
    {
     "data": {
      "text/plain": [
       "(1000, 500, 1)"
      ]
     },
     "execution_count": 6,
     "metadata": {},
     "output_type": "execute_result"
    }
   ],
   "source": [
    "# Generate validation samples\n",
    "freq, time =30, 2\n",
    "wave = waveGenerator()\n",
    "X_valid, y_valid = [], []\n",
    "for  i in range(1000):\n",
    "    sig, out, t = wave.randomWave()\n",
    "    X_valid.append(sig.reshape(500,1))\n",
    "    y_valid.append(out)\n",
    "\n",
    "X_valid, y_valid = np.array(X_valid), np.array(y_valid)\n",
    "X_valid.shape"
   ]
  },
  {
   "cell_type": "code",
   "execution_count": 7,
   "metadata": {},
   "outputs": [
    {
     "name": "stdout",
     "output_type": "stream",
     "text": [
      "WARNING:tensorflow:From /usr/local/lib/python3.6/dist-packages/tensorflow/python/ops/math_ops.py:3066: to_int32 (from tensorflow.python.ops.math_ops) is deprecated and will be removed in a future version.\n",
      "Instructions for updating:\n",
      "Use tf.cast instead.\n",
      "Train on 10000 samples, validate on 1000 samples\n",
      "Epoch 1/10\n",
      "10000/10000 [==============================] - 2s 184us/step - loss: 1.3335 - accuracy: 0.3455 - val_loss: 1.2613 - val_accuracy: 0.7580\n",
      "Epoch 2/10\n",
      "10000/10000 [==============================] - 1s 132us/step - loss: 1.2300 - accuracy: 0.5848 - val_loss: 1.1312 - val_accuracy: 0.7580\n",
      "Epoch 3/10\n",
      "10000/10000 [==============================] - 1s 132us/step - loss: 1.0999 - accuracy: 0.6547 - val_loss: 0.9602 - val_accuracy: 0.7300\n",
      "Epoch 4/10\n",
      "10000/10000 [==============================] - 1s 130us/step - loss: 0.9854 - accuracy: 0.6134 - val_loss: 0.8577 - val_accuracy: 0.6250\n",
      "Epoch 5/10\n",
      "10000/10000 [==============================] - 1s 131us/step - loss: 0.9092 - accuracy: 0.5797 - val_loss: 0.7835 - val_accuracy: 0.5970\n",
      "Epoch 6/10\n",
      "10000/10000 [==============================] - 1s 133us/step - loss: 0.8377 - accuracy: 0.6494 - val_loss: 0.6957 - val_accuracy: 0.8450\n",
      "Epoch 7/10\n",
      "10000/10000 [==============================] - 1s 132us/step - loss: 0.7786 - accuracy: 0.7092 - val_loss: 0.6406 - val_accuracy: 0.8780\n",
      "Epoch 8/10\n",
      "10000/10000 [==============================] - 1s 132us/step - loss: 0.7181 - accuracy: 0.7534 - val_loss: 0.5745 - val_accuracy: 0.9060\n",
      "Epoch 9/10\n",
      "10000/10000 [==============================] - 1s 134us/step - loss: 0.6721 - accuracy: 0.7829 - val_loss: 0.5246 - val_accuracy: 0.9700\n",
      "Epoch 10/10\n",
      "10000/10000 [==============================] - 1s 132us/step - loss: 0.6099 - accuracy: 0.8322 - val_loss: 0.4408 - val_accuracy: 0.9700\n"
     ]
    }
   ],
   "source": [
    "#Train the model\n",
    "h = model.fit(X_train, y_train, epochs = 10, batch_size = 2048, \n",
    "          validation_data = (X_valid, y_valid), \n",
    "          verbose = 1)"
   ]
  },
  {
   "cell_type": "code",
   "execution_count": 11,
   "metadata": {},
   "outputs": [
    {
     "data": {
      "text/plain": [
       "(1000, 500, 1)"
      ]
     },
     "execution_count": 11,
     "metadata": {},
     "output_type": "execute_result"
    }
   ],
   "source": [
    "# Generate validation samples\n",
    "freq, time =30, 2\n",
    "wave = waveGenerator()\n",
    "X_test, y_test = [], []\n",
    "for  i in range(1000):\n",
    "    sig, out, t = wave.randomWave()\n",
    "    X_test.append(sig.reshape(500,1))\n",
    "    y_test.append(out)\n",
    "\n",
    "X_test, y_test = np.array(X_test), np.array(y_test)\n",
    "X_test.shape"
   ]
  },
  {
   "cell_type": "code",
   "execution_count": 12,
   "metadata": {
    "scrolled": true
   },
   "outputs": [
    {
     "name": "stdout",
     "output_type": "stream",
     "text": [
      "1 0\n",
      "[[0.4795053  0.48583907 0.00898362 0.02567206]] [1 0 0 0]\n",
      "1 0\n",
      "[[0.4795053  0.48583907 0.00898362 0.02567206]] [1 0 0 0]\n",
      "1 0\n",
      "[[0.4795053  0.48583907 0.00898362 0.02567206]] [1 0 0 0]\n",
      "1 0\n",
      "[[0.4795053  0.48583907 0.00898362 0.02567206]] [1 0 0 0]\n",
      "1 0\n",
      "[[0.4795053  0.48583907 0.00898362 0.02567206]] [1 0 0 0]\n",
      "1 0\n",
      "[[0.4795053  0.48583907 0.00898362 0.02567206]] [1 0 0 0]\n",
      "1 0\n",
      "[[0.4795053  0.48583907 0.00898362 0.02567206]] [1 0 0 0]\n"
     ]
    }
   ],
   "source": [
    "# See when the model goes wrong\n",
    "for i in range(100):\n",
    "    x = X_test[i]\n",
    "    preds = model.predict(x.reshape(1,500,1))\n",
    "    if np.argmax(preds) != np.argmax(y_test[i]):\n",
    "        print(np.argmax(preds), np.argmax(y_test[i]))\n",
    "        print(preds, y_test[i])"
   ]
  },
  {
   "cell_type": "code",
   "execution_count": 16,
   "metadata": {},
   "outputs": [
    {
     "name": "stdout",
     "output_type": "stream",
     "text": [
      "0 2\n",
      "[[0.6966052  0.20440488 0.03448437 0.06450551]] [0 0 1 0]\n",
      "2 1\n",
      "[[0.04231546 0.00862679 0.9052384  0.04381933]] [0 1 0 0]\n",
      "1 0\n",
      "[[0.29874048 0.66215146 0.00939651 0.02971159]] [1 0 0 0]\n",
      "2 3\n",
      "[[0.16269736 0.12237027 0.3798813  0.3350511 ]] [0 0 0 1]\n",
      "2 0\n",
      "[[0.02124372 0.00584466 0.9473393  0.02557231]] [1 0 0 0]\n",
      "2 3\n",
      "[[0.16269736 0.12237027 0.3798813  0.3350511 ]] [0 0 0 1]\n",
      "2 3\n",
      "[[0.02315899 0.01226798 0.91868645 0.04588651]] [0 0 0 1]\n",
      "2 0\n",
      "[[0.00785645 0.00374986 0.9765105  0.01188312]] [1 0 0 0]\n",
      "2 1\n",
      "[[0.01854795 0.01186624 0.93866575 0.03092002]] [0 1 0 0]\n",
      "1 0\n",
      "[[0.29874048 0.66215146 0.00939651 0.02971159]] [1 0 0 0]\n",
      "2 1\n",
      "[[0.01854795 0.01186624 0.93866575 0.03092002]] [0 1 0 0]\n",
      "2 1\n",
      "[[0.01854795 0.01186624 0.93866575 0.03092002]] [0 1 0 0]\n",
      "0 2\n",
      "[[0.6574029  0.17572117 0.05891672 0.10795918]] [0 0 1 0]\n",
      "1 2\n",
      "[[0.45097908 0.5146172  0.0086425  0.02576116]] [0 0 1 0]\n",
      "2 1\n",
      "[[0.04231546 0.00862679 0.9052384  0.04381933]] [0 1 0 0]\n",
      "2 1\n",
      "[[0.04231546 0.00862679 0.9052384  0.04381933]] [0 1 0 0]\n",
      "2 3\n",
      "[[0.04762057 0.02789838 0.8259004  0.09858074]] [0 0 0 1]\n",
      "2 3\n",
      "[[0.13127728 0.09331106 0.5047545  0.2706572 ]] [0 0 0 1]\n",
      "2 1\n",
      "[[0.01829169 0.00437832 0.95659554 0.02073441]] [0 1 0 0]\n",
      "2 1\n",
      "[[0.01854795 0.01186624 0.93866575 0.03092002]] [0 1 0 0]\n",
      "1 2\n",
      "[[0.45097908 0.5146172  0.0086425  0.02576116]] [0 0 1 0]\n",
      "2 0\n",
      "[[0.0249263  0.01685047 0.91238064 0.04584263]] [1 0 0 0]\n",
      "2 3\n",
      "[[0.01181745 0.00572898 0.9616051  0.02084853]] [0 0 0 1]\n",
      "2 0\n",
      "[[0.03320958 0.00974757 0.9159704  0.04107244]] [1 0 0 0]\n",
      "2 1\n",
      "[[0.04231546 0.00862679 0.9052384  0.04381933]] [0 1 0 0]\n",
      "2 1\n",
      "[[0.04231546 0.00862679 0.9052384  0.04381933]] [0 1 0 0]\n",
      "0 2\n",
      "[[0.6966052  0.20440488 0.03448437 0.06450551]] [0 0 1 0]\n",
      "2 3\n",
      "[[0.08844278 0.05801022 0.6691542  0.18439269]] [0 0 0 1]\n",
      "0 1\n",
      "[[0.81183386 0.11384156 0.02568383 0.04864069]] [0 1 0 0]\n",
      "2 0\n",
      "[[0.00785645 0.00374986 0.9765105  0.01188312]] [1 0 0 0]\n",
      "2 3\n",
      "[[0.13127728 0.09331106 0.5047545  0.2706572 ]] [0 0 0 1]\n",
      "2 0\n",
      "[[0.02124372 0.00584466 0.9473393  0.02557231]] [1 0 0 0]\n",
      "0 2\n",
      "[[0.4692874  0.44110978 0.02420416 0.06539857]] [0 0 1 0]\n",
      "2 3\n",
      "[[0.13127728 0.09331106 0.5047545  0.2706572 ]] [0 0 0 1]\n",
      "1 0\n",
      "[[0.29874048 0.66215146 0.00939651 0.02971159]] [1 0 0 0]\n",
      "1 2\n",
      "[[0.45097908 0.5146172  0.0086425  0.02576116]] [0 0 1 0]\n",
      "2 3\n",
      "[[0.16269736 0.12237027 0.3798813  0.3350511 ]] [0 0 0 1]\n",
      "2 3\n",
      "[[0.08844278 0.05801022 0.6691542  0.18439269]] [0 0 0 1]\n",
      "2 1\n",
      "[[0.00478904 0.00205088 0.9866328  0.00652721]] [0 1 0 0]\n",
      "2 0\n",
      "[[0.02124372 0.00584466 0.9473393  0.02557231]] [1 0 0 0]\n",
      "1 0\n",
      "[[0.29874048 0.66215146 0.00939651 0.02971159]] [1 0 0 0]\n",
      "2 3\n",
      "[[0.02315899 0.01226798 0.91868645 0.04588651]] [0 0 0 1]\n",
      "2 0\n",
      "[[0.00785645 0.00374986 0.9765105  0.01188312]] [1 0 0 0]\n",
      "1 2\n",
      "[[0.45097908 0.5146172  0.0086425  0.02576116]] [0 0 1 0]\n",
      "0 1\n",
      "[[0.81183386 0.11384156 0.02568383 0.04864069]] [0 1 0 0]\n",
      "2 1\n",
      "[[0.01829169 0.00437832 0.95659554 0.02073441]] [0 1 0 0]\n",
      "2 0\n",
      "[[0.00785645 0.00374986 0.9765105  0.01188312]] [1 0 0 0]\n",
      "2 1\n",
      "[[0.04231546 0.00862679 0.9052384  0.04381933]] [0 1 0 0]\n",
      "2 3\n",
      "[[0.04762057 0.02789838 0.8259004  0.09858074]] [0 0 0 1]\n",
      "2 0\n",
      "[[0.02124372 0.00584466 0.9473393  0.02557231]] [1 0 0 0]\n",
      "2 0\n",
      "[[0.03320958 0.00974757 0.9159704  0.04107244]] [1 0 0 0]\n",
      "1 0\n",
      "[[0.29874048 0.66215146 0.00939651 0.02971159]] [1 0 0 0]\n",
      "2 1\n",
      "[[0.04231546 0.00862679 0.9052384  0.04381933]] [0 1 0 0]\n",
      "2 3\n",
      "[[0.04762057 0.02789838 0.8259004  0.09858074]] [0 0 0 1]\n",
      "2 3\n",
      "[[0.13127728 0.09331106 0.5047545  0.2706572 ]] [0 0 0 1]\n",
      "0 2\n",
      "[[0.6966052  0.20440488 0.03448437 0.06450551]] [0 0 1 0]\n",
      "2 0\n",
      "[[0.0249263  0.01685047 0.91238064 0.04584263]] [1 0 0 0]\n",
      "0 2\n",
      "[[0.4692874  0.44110978 0.02420416 0.06539857]] [0 0 1 0]\n",
      "2 3\n",
      "[[0.01181745 0.00572898 0.9616051  0.02084853]] [0 0 0 1]\n",
      "2 3\n",
      "[[0.01181745 0.00572898 0.9616051  0.02084853]] [0 0 0 1]\n"
     ]
    }
   ],
   "source": [
    "# What happens if we only pass in part of the signal\n",
    "for i in range(100):\n",
    "    x = X_test[i][:200]\n",
    "    preds = model.predict(x.reshape(1,200,1))\n",
    "    if np.argmax(preds) != np.argmax(y_test[i]):\n",
    "        print(np.argmax(preds), np.argmax(y_test[i]))\n",
    "        print(preds, y_test[i])"
   ]
  },
  {
   "cell_type": "code",
   "execution_count": null,
   "metadata": {},
   "outputs": [],
   "source": []
  }
 ],
 "metadata": {
  "kernelspec": {
   "display_name": "Python 3",
   "language": "python",
   "name": "python3"
  },
  "language_info": {
   "codemirror_mode": {
    "name": "ipython",
    "version": 3
   },
   "file_extension": ".py",
   "mimetype": "text/x-python",
   "name": "python",
   "nbconvert_exporter": "python",
   "pygments_lexer": "ipython3",
   "version": "3.6.8"
  }
 },
 "nbformat": 4,
 "nbformat_minor": 2
}
